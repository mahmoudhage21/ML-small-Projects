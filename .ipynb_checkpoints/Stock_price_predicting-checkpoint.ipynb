{
 "cells": [
  {
   "cell_type": "markdown",
   "metadata": {},
   "source": [
    "## 1- Install dependencies \n",
    "## 2 - Collect Dataset\n",
    "## 3 - Write Script\n",
    "## 4 - Analyse Graph"
   ]
  },
  {
   "cell_type": "code",
   "execution_count": 1,
   "metadata": {},
   "outputs": [],
   "source": [
    "import csv\n",
    "import numpy as np\n",
    "import matplotlib.pyplot as plt\n",
    "from sklearn.svm import SVR"
   ]
  },
  {
   "cell_type": "code",
   "execution_count": 2,
   "metadata": {},
   "outputs": [],
   "source": [
    "dates = []\n",
    "prices = []\n",
    "\n",
    "def get_data(filename):\n",
    "    with open(filename, 'r') as csvfile:\n",
    "        cvsFileReader = csv.reader(csvfile) \n",
    "        next(cvsFileReader) # skip the first line\n",
    "        for row in cvsFileReader:\n",
    "            dates.append(int(row[0].split('-')[0]))\n",
    "            prices.append(float(row[1]))\n",
    "    return\n",
    "\n",
    "\n",
    "        \n",
    "def predict_price(dates,prices,x):\n",
    "    dates = np.reshape(dates,(len(dates),1))\n",
    "     \n",
    "    #svr_lin = SVR(kernel='linear',C=1e3)\n",
    "    #svr_poly = SVR(kernel='poly',C=1e3, degree = 2)\n",
    "    #svr_rbf =  SVR(kernel='rbf',C=1e3, gamma = 0.1)\n",
    "    \n",
    "    #svr_lin.fit(dates,prices)\n",
    "    #svr_poly.fit(dates,prices)\n",
    "    #svr_rbf.fit(dates,prices)\n",
    "    \n",
    "    plt.scatter(dates,prices,color='black',label='Data')\n",
    "    #plt.plot(dates,svr_rbf.predict(dates),color='red',label='RBF')\n",
    "    #plt.plot(dates,svr_lin.predict(dates),color='green',label='Linear')\n",
    "    #plt.plot(dates,svr_poly.predict(dates),color='blue',label='Polynomial')\n",
    "    \n",
    "    plt.xlabel('Date')\n",
    "    plt.ylabel('Price')\n",
    "    plt.title('Support Vector Regression')\n",
    "    plt.legend()\n",
    "    plt.show()\n",
    "    \n",
    "    #return svr_rbf.predict(x)[0],svr_lin.predict(x)[0],svr_poly.predict(x)[0]"
   ]
  },
  {
   "cell_type": "code",
   "execution_count": 3,
   "metadata": {},
   "outputs": [],
   "source": [
    "get_data('AAPL.csv')\n",
    "dates = np.reshape(dates,(len(dates),1))\n",
    "plt.scatter(dates,prices,color='black',label='Data')"
   ]
  },
  {
   "cell_type": "code",
   "execution_count": null,
   "metadata": {},
   "outputs": [],
   "source": [
    "predict_price(dates,prices,29)"
   ]
  },
  {
   "cell_type": "code",
   "execution_count": 27,
   "metadata": {},
   "outputs": [
    {
     "data": {
      "text/plain": [
       "'123'"
      ]
     },
     "execution_count": 27,
     "metadata": {},
     "output_type": "execute_result"
    }
   ],
   "source": []
  },
  {
   "cell_type": "code",
   "execution_count": null,
   "metadata": {},
   "outputs": [],
   "source": []
  }
 ],
 "metadata": {
  "kernelspec": {
   "display_name": "Python 3",
   "language": "python",
   "name": "python3"
  },
  "language_info": {
   "codemirror_mode": {
    "name": "ipython",
    "version": 3
   },
   "file_extension": ".py",
   "mimetype": "text/x-python",
   "name": "python",
   "nbconvert_exporter": "python",
   "pygments_lexer": "ipython3",
   "version": "3.8.3"
  }
 },
 "nbformat": 4,
 "nbformat_minor": 4
}
